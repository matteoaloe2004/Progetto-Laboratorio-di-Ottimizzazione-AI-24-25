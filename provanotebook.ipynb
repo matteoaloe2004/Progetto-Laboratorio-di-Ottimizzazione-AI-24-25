{
 "cells": [
  {
   "cell_type": "code",
   "execution_count": 7,
   "id": "42a17e4d",
   "metadata": {},
   "outputs": [],
   "source": [
    "import numpy as np\n",
    "from utils import rinomina_classi_in_dir, undersample_dataset, count_images_per_class\n",
    "from train import train\n",
    "from evaluate import plot_training, evaluate_model, plot_confusion_matrix"
   ]
  },
  {
   "cell_type": "code",
   "execution_count": null,
   "id": "be171fcc",
   "metadata": {},
   "outputs": [],
   "source": [
    "# Parametri\n",
    "original_dir = \"DataSet/PlantVillage\"\n",
    "balanced_dir = \"DataSet/PlantVillage_Balanced\"\n",
    "img_size = (224, 224)\n",
    "batch_size = 64\n",
    "epochs = 10\n",
    "use_transfer_learning = True"
   ]
  },
  {
   "cell_type": "code",
   "execution_count": 9,
   "id": "e337d3d5",
   "metadata": {},
   "outputs": [],
   "source": [
    "# Rinomina classi\n",
    "rinomina_classi_in_dir(original_dir)"
   ]
  },
  {
   "cell_type": "code",
   "execution_count": 10,
   "id": "4be82361",
   "metadata": {},
   "outputs": [
    {
     "name": "stdout",
     "output_type": "stream",
     "text": [
      "✅ Dataset ridotto salvato in: DataSet/PlantVillage_Balanced\n"
     ]
    }
   ],
   "source": [
    "# Undersampling per bilanciare\n",
    "undersample_dataset(original_dir, balanced_dir, max_per_class=1000)"
   ]
  },
  {
   "cell_type": "code",
   "execution_count": 11,
   "id": "2bfdf595",
   "metadata": {},
   "outputs": [
    {
     "name": "stdout",
     "output_type": "stream",
     "text": [
      "Distribuzione originale: {'pep_bell_Bacterial_spot': 976, 'pep_bell_healthy': 1478, 'pot_Early_blight': 1000, 'pot_healthy': 152, 'pot_Late_blight': 1000, 'tom_Bacterial_spot': 2127, 'tom_Early_blight': 1000, 'tom_healthy': 1591, 'tom_Late_blight': 1909, 'tom_Leaf_Mold': 952, 'tom_Septoria_leaf_spot': 1771, 'tom_Spider_mites_Two_spotted_spider_mite': 1676, 'tom_Target_Spot': 1404, 'tom_Tomato_mosaic_virus': 373, 'tom_Tomato_YellowLeaf_Curl_Virus': 3208}\n",
      "Distribuzione bilanciata: {'pep_bell_Bacterial_spot': 976, 'pep_bell_healthy': 1000, 'pot_Early_blight': 1000, 'pot_healthy': 152, 'pot_Late_blight': 1000, 'tom_Bacterial_spot': 1000, 'tom_Early_blight': 1000, 'tom_healthy': 1000, 'tom_Late_blight': 1000, 'tom_Leaf_Mold': 952, 'tom_Septoria_leaf_spot': 1000, 'tom_Spider_mites_Two_spotted_spider_mite': 1000, 'tom_Target_Spot': 1000, 'tom_Tomato_mosaic_virus': 373, 'tom_Tomato_YellowLeaf_Curl_Virus': 1000}\n"
     ]
    }
   ],
   "source": [
    "# Conta immagini\n",
    "print(\"Distribuzione originale:\", count_images_per_class(original_dir))\n",
    "print(\"Distribuzione bilanciata:\", count_images_per_class(balanced_dir))"
   ]
  },
  {
   "cell_type": "code",
   "execution_count": null,
   "id": "67c9409f",
   "metadata": {},
   "outputs": [
    {
     "name": "stdout",
     "output_type": "stream",
     "text": [
      "Found 10764 images belonging to 15 classes.\n",
      "Found 2689 images belonging to 15 classes.\n",
      "Epoch 1/10\n",
      "\u001b[1m57/85\u001b[0m \u001b[32m━━━━━━━━━━━━━\u001b[0m\u001b[37m━━━━━━━\u001b[0m \u001b[1m46s\u001b[0m 2s/step - accuracy: 0.0815 - loss: 3.0543"
     ]
    }
   ],
   "source": [
    "# Training\n",
    "model, history, val_generator = train(\n",
    "    data_dir=balanced_dir,\n",
    "    img_size=img_size,\n",
    "    batch_size=batch_size,\n",
    "    epochs=epochs,\n",
    "    use_transfer_learning=use_transfer_learning\n",
    ")\n"
   ]
  },
  {
   "cell_type": "code",
   "execution_count": null,
   "id": "8d09623f",
   "metadata": {},
   "outputs": [],
   "source": [
    "# Plot training history\n",
    "plot_training(history)"
   ]
  },
  {
   "cell_type": "code",
   "execution_count": null,
   "id": "93b903d2",
   "metadata": {},
   "outputs": [],
   "source": [
    "# Valutazione\n",
    "evaluate_model(model, val_generator)"
   ]
  },
  {
   "cell_type": "code",
   "execution_count": null,
   "id": "32c0bfe1",
   "metadata": {},
   "outputs": [],
   "source": [
    "# Confusion matrix\n",
    "from sklearn.metrics import confusion_matrix\n",
    "y_true = val_generator.classes\n",
    "val_generator.reset()\n",
    "y_pred_probs = model.predict(val_generator)\n",
    "y_pred = np.argmax(y_pred_probs, axis=1)\n",
    "\n",
    "cm = confusion_matrix(y_true, y_pred)\n",
    "class_names = list(val_generator.class_indices.keys())\n",
    "plot_confusion_matrix(cm, class_names, normalize=True)"
   ]
  }
 ],
 "metadata": {
  "kernelspec": {
   "display_name": "tf-env",
   "language": "python",
   "name": "python3"
  },
  "language_info": {
   "codemirror_mode": {
    "name": "ipython",
    "version": 3
   },
   "file_extension": ".py",
   "mimetype": "text/x-python",
   "name": "python",
   "nbconvert_exporter": "python",
   "pygments_lexer": "ipython3",
   "version": "3.10.18"
  }
 },
 "nbformat": 4,
 "nbformat_minor": 5
}
