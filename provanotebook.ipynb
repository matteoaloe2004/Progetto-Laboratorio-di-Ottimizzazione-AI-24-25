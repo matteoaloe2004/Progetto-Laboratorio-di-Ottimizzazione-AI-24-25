{
 "cells": [
  {
   "cell_type": "code",
   "execution_count": null,
   "id": "42a17e4d",
   "metadata": {},
   "outputs": [],
   "source": [
    "import numpy as np\n",
    "from utils import rinomina_classi_in_dir, undersample_dataset, count_images_per_class\n",
    "from train import train\n",
    "from evaluate import plot_training, evaluate_model, plot_confusion_matrix"
   ]
  },
  {
   "cell_type": "code",
   "execution_count": null,
   "id": "be171fcc",
   "metadata": {},
   "outputs": [],
   "source": [
    "# Parametri\n",
    "original_dir = \"DataSet/PlantVillage\"\n",
    "balanced_dir = \"DataSet/PlantVillage_Balanced\"\n",
    "img_size = (224, 224)\n",
    "batch_size = 64\n",
    "epochs = 10\n",
    "use_transfer_learning = True"
   ]
  },
  {
   "cell_type": "code",
   "execution_count": null,
   "id": "e337d3d5",
   "metadata": {},
   "outputs": [],
   "source": [
    "# Rinomina classi\n",
    "rinomina_classi_in_dir(original_dir)"
   ]
  },
  {
   "cell_type": "code",
   "execution_count": null,
   "id": "4be82361",
   "metadata": {},
   "outputs": [],
   "source": [
    "# Undersampling per bilanciare\n",
    "undersample_dataset(original_dir, balanced_dir, max_per_class=1000)"
   ]
  },
  {
   "cell_type": "code",
   "execution_count": null,
   "id": "2bfdf595",
   "metadata": {},
   "outputs": [],
   "source": [
    "# Conta immagini\n",
    "print(\"Distribuzione originale:\", count_images_per_class(original_dir))\n",
    "print(\"Distribuzione bilanciata:\", count_images_per_class(balanced_dir))"
   ]
  },
  {
   "cell_type": "code",
   "execution_count": null,
   "id": "67c9409f",
   "metadata": {},
   "outputs": [],
   "source": [
    "# Training\n",
    "model, history, val_generator = train(\n",
    "    data_dir=balanced_dir,\n",
    "    img_size=img_size,\n",
    "    batch_size=batch_size,\n",
    "    epochs=epochs,\n",
    "    use_transfer_learning=use_transfer_learning\n",
    ")\n"
   ]
  },
  {
   "cell_type": "code",
   "execution_count": null,
   "id": "8d09623f",
   "metadata": {},
   "outputs": [],
   "source": [
    "# Plot training history\n",
    "plot_training(history)"
   ]
  },
  {
   "cell_type": "code",
   "execution_count": null,
   "id": "93b903d2",
   "metadata": {},
   "outputs": [],
   "source": [
    "# Valutazione\n",
    "evaluate_model(model, val_generator)"
   ]
  },
  {
   "cell_type": "code",
   "execution_count": null,
   "id": "32c0bfe1",
   "metadata": {},
   "outputs": [],
   "source": [
    "# Confusion matrix\n",
    "from sklearn.metrics import confusion_matrix\n",
    "y_true = val_generator.classes\n",
    "val_generator.reset()\n",
    "y_pred_probs = model.predict(val_generator)\n",
    "y_pred = np.argmax(y_pred_probs, axis=1)\n",
    "\n",
    "cm = confusion_matrix(y_true, y_pred)\n",
    "class_names = list(val_generator.class_indices.keys())\n",
    "plot_confusion_matrix(cm, class_names, normalize=True)"
   ]
  }
 ],
 "metadata": {
  "language_info": {
   "name": "python"
  }
 },
 "nbformat": 4,
 "nbformat_minor": 5
}
