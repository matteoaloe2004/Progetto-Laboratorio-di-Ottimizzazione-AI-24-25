{
 "cells": [
  {
   "cell_type": "code",
   "execution_count": null,
   "id": "cd0a93e3",
   "metadata": {},
   "outputs": [],
   "source": [
    "import os\n",
    "import json\n",
    "import torch\n",
    "from torch.utils.tensorboard import SummaryWriter\n",
    "from utils import rinomina_classi_in_dir, undersample_dataset, count_images_per_class, split_train_val_test\n",
    "from data_loader import get_data_loaders\n",
    "from model import CustomCNN, TransferMobileNet\n",
    "from train import train_model\n",
    "from evaluate import evaluate_model, plot_training\n",
    "from jsonschema import validate\n",
    "import jsonschema"
   ]
  },
  {
   "cell_type": "code",
   "execution_count": null,
   "id": "bc425f87",
   "metadata": {},
   "outputs": [],
   "source": [
    "# Caricamento del file di configurazione\n",
    "with open('config.json', 'r') as f:\n",
    "    config = json.load(f)"
   ]
  },
  {
   "cell_type": "code",
   "execution_count": null,
   "id": "67a6fda5",
   "metadata": {},
   "outputs": [],
   "source": [
    "# Caricamento del JSON Schema\n",
    "with open('config_schema.json', 'r') as f:\n",
    "    schema = json.load(f)\n",
    "\n",
    "# Validazione della configurazione\n",
    "try:\n",
    "    validate(instance=config, schema=schema)\n",
    "    print(\"Configurazione valida.\")\n",
    "except jsonschema.exceptions.ValidationError as err:\n",
    "    print(\"Errore nella configurazione:\", err)\n",
    "    raise"
   ]
  },
  {
   "cell_type": "code",
   "execution_count": null,
   "id": "2383b89b",
   "metadata": {},
   "outputs": [],
   "source": [
    "# Configurazione\n",
    "original_dir = config.get(\"original_data_path\", \"./Dataset/PlantVillage\")\n",
    "balanced_dir = config.get(\"balanced_data_path\", \"./Dataset/PlantVillage_balanced\")\n",
    "split_dir = config.get(\"split_data_path\", \"./Dataset/PlantVillage_split\")\n",
    "\n",
    "train_dir = config[\"train_data_path\"]  \n",
    "val_dir = config[\"val_data_path\"]      \n",
    "test_dir = config[\"test_data_path\"]    \n",
    "\n",
    "batch_size = config.get(\"batch_size\", 64)\n",
    "val_ratio = 0.15     \n",
    "test_ratio = 0.15      \n",
    "epochs = config.get(\"num_epochs\", 10)\n",
    "learning_rate = config.get(\"learning_rate\", 0.001)\n",
    "target_accuracy = config.get(\"target_accuracy\", 0.95)\n",
    "early_stopping_patience = config.get(\"early_stopping_patience\", 5)\n",
    "\n",
    "print(f\"Original data dir: {original_dir}\")\n",
    "print(f\"Balanced data dir: {balanced_dir}\")\n",
    "print(f\"Split data dir: {split_dir}\")\n",
    "print(f\"Training dir (loader): {train_dir}\")\n",
    "print(f\"Validation dir (loader): {val_dir}\")\n",
    "\n"
   ]
  },
  {
   "cell_type": "code",
   "execution_count": null,
   "id": "2711629b",
   "metadata": {},
   "outputs": [],
   "source": [
    "# Rinomina classi\n",
    "rinomina_classi_in_dir(original_dir)"
   ]
  },
  {
   "cell_type": "code",
   "execution_count": 22,
   "id": "ec9b6b96",
   "metadata": {},
   "outputs": [
    {
     "name": "stdout",
     "output_type": "stream",
     "text": [
      "✅ Dataset ridotto salvato in: ./Dataset/PlantVillage_balanced\n"
     ]
    }
   ],
   "source": [
    "# Undersampling per bilanciare\n",
    "undersample_dataset(original_dir, balanced_dir, max_per_class=1000)"
   ]
  },
  {
   "cell_type": "code",
   "execution_count": 23,
   "id": "30fad2f8",
   "metadata": {},
   "outputs": [
    {
     "name": "stdout",
     "output_type": "stream",
     "text": [
      "Distribuzione originale: {'pep_bell_Bacterial_spot': 976, 'pep_bell_healthy': 1478, 'pot_Early_blight': 1000, 'pot_healthy': 152, 'pot_Late_blight': 1000, 'tom_Bacterial_spot': 2127, 'tom_Early_blight': 1000, 'tom_healthy': 1591, 'tom_Late_blight': 1909, 'tom_Leaf_Mold': 952, 'tom_Septoria_leaf_spot': 1771, 'tom_Spider_mites_Two_spotted_spider_mite': 1676, 'tom_Target_Spot': 1404, 'tom_Tomato_mosaic_virus': 373, 'tom_Tomato_YellowLeaf_Curl_Virus': 3208}\n",
      "Distribuzione bilanciata: {'pep_bell_Bacterial_spot': 976, 'pep_bell_healthy': 1000, 'pot_Early_blight': 1000, 'pot_healthy': 152, 'pot_Late_blight': 1000, 'tom_Bacterial_spot': 1000, 'tom_Early_blight': 1000, 'tom_healthy': 1000, 'tom_Late_blight': 1000, 'tom_Leaf_Mold': 952, 'tom_Septoria_leaf_spot': 1000, 'tom_Spider_mites_Two_spotted_spider_mite': 1000, 'tom_Target_Spot': 1000, 'tom_Tomato_mosaic_virus': 373, 'tom_Tomato_YellowLeaf_Curl_Virus': 1000}\n"
     ]
    }
   ],
   "source": [
    "# Conta immagini\n",
    "print(\"Distribuzione originale:\", count_images_per_class(original_dir))\n",
    "print(\"Distribuzione bilanciata:\", count_images_per_class(balanced_dir))"
   ]
  },
  {
   "cell_type": "code",
   "execution_count": 24,
   "id": "40da9776",
   "metadata": {},
   "outputs": [
    {
     "name": "stdout",
     "output_type": "stream",
     "text": [
      "Dataset splittato in train/val/test.\n"
     ]
    }
   ],
   "source": [
    "# Split train/val/test\n",
    "split_train_val_test(balanced_dir, split_dir, val_ratio=val_ratio, test_ratio=test_ratio)\n",
    "print(\"Dataset splittato in train/val/test.\")"
   ]
  },
  {
   "cell_type": "code",
   "execution_count": 25,
   "id": "806b9d48",
   "metadata": {},
   "outputs": [
    {
     "name": "stdout",
     "output_type": "stream",
     "text": [
      "Classi: ['pep_bell_Bacterial_spot', 'pep_bell_healthy', 'pot_Early_blight', 'pot_Late_blight', 'pot_healthy', 'tom_Bacterial_spot', 'tom_Early_blight', 'tom_Late_blight', 'tom_Leaf_Mold', 'tom_Septoria_leaf_spot', 'tom_Spider_mites_Two_spotted_spider_mite', 'tom_Target_Spot', 'tom_Tomato_YellowLeaf_Curl_Virus', 'tom_Tomato_mosaic_virus', 'tom_healthy']\n"
     ]
    }
   ],
   "source": [
    "# DataLoader\n",
    "train_loader, val_loader, class_names = get_data_loaders(split_dir, img_size=(224, 224), batch_size=batch_size)\n",
    "print(f\"Classi: {class_names}\")\n"
   ]
  },
  {
   "cell_type": "code",
   "execution_count": 26,
   "id": "21c6b3b5",
   "metadata": {},
   "outputs": [
    {
     "name": "stdout",
     "output_type": "stream",
     "text": [
      "Using device: cuda\n"
     ]
    }
   ],
   "source": [
    "# Creazione modello e device\n",
    "\n",
    "model = TransferMobileNet(num_classes=len(class_names))\n",
    "device = torch.device(\"cuda\" if torch.cuda.is_available() else \"cpu\")\n",
    "print(f\"Using device: {device}\")\n",
    "model = model.to(device)"
   ]
  },
  {
   "cell_type": "code",
   "execution_count": 27,
   "id": "d3400afa",
   "metadata": {},
   "outputs": [],
   "source": [
    "# Carico il CheckPoint\n",
    "checkpoint_path = os.path.join(config.get(\"checkpoint_dir\", \"./checkpoints\"), \"model_best.pth\")"
   ]
  },
  {
   "cell_type": "code",
   "execution_count": null,
   "id": "8731e871",
   "metadata": {},
   "outputs": [
    {
     "name": "stdout",
     "output_type": "stream",
     "text": [
      "Epoch 1/10 - Train loss: 1.4750, Train acc: 0.5665 - Val loss: 0.7454, Val acc: 0.7926\n",
      "Epoch 2/10 - Train loss: 0.9024, Train acc: 0.7293 - Val loss: 0.5527, Val acc: 0.8367\n",
      "Epoch 3/10 - Train loss: 0.7865, Train acc: 0.7533 - Val loss: 0.4811, Val acc: 0.8571\n",
      "Epoch 4/10 - Train loss: 0.7372, Train acc: 0.7659 - Val loss: 0.4136, Val acc: 0.8705\n",
      "Epoch 5/10 - Train loss: 0.7191, Train acc: 0.7692 - Val loss: 0.3817, Val acc: 0.8849\n",
      "Epoch 6/10 - Train loss: 0.6764, Train acc: 0.7817 - Val loss: 0.3908, Val acc: 0.8685\n",
      "Epoch 7/10 - Train loss: 0.6838, Train acc: 0.7834 - Val loss: 0.3848, Val acc: 0.8700\n",
      "Epoch 8/10 - Train loss: 0.6611, Train acc: 0.7832 - Val loss: 0.3561, Val acc: 0.8819\n",
      "Epoch 9/10 - Train loss: 0.6583, Train acc: 0.7843 - Val loss: 0.3454, Val acc: 0.8933\n"
     ]
    }
   ],
   "source": [
    "# Chiamata Training\n",
    "model, train_losses, val_losses, train_accs, val_accs = train_model(\n",
    "    model,\n",
    "    train_loader,\n",
    "    val_loader,\n",
    "    device,\n",
    "    epochs,\n",
    "    learning_rate,\n",
    "    early_stopping_patience=early_stopping_patience,\n",
    "    target_accuracy=target_accuracy,\n",
    "    checkpoint_dir=config.get(\"checkpoint_dir\", \"./checkpoints\"),\n",
    "    resume_from=None,  \n",
    "    log_dir=config.get(\"log_dir\", \"./runs\")\n",
    ")\n",
    "\n",
    "\n",
    "#tensorboard --logdir=./runs"
   ]
  },
  {
   "cell_type": "code",
   "execution_count": null,
   "id": "6bf4c6c1",
   "metadata": {},
   "outputs": [],
   "source": [
    "# Visualizza andamento training\n",
    "plot_training(train_losses, val_losses, train_accs, val_accs)\n"
   ]
  },
  {
   "cell_type": "code",
   "execution_count": null,
   "id": "cbc5d4b0",
   "metadata": {},
   "outputs": [],
   "source": [
    "# Valuta il modello su validation set\n",
    "evaluate_model(model, val_loader, device, class_names)"
   ]
  },
  {
   "cell_type": "code",
   "execution_count": null,
   "id": "e9969f16",
   "metadata": {},
   "outputs": [],
   "source": [
    "# Salvataggio Modello finale\n",
    "torch.save(model.state_dict(), \"plantvillage_transfer_model.pth\")\n",
    "print(\"✅ Modello salvato in plantvillage_transfer_model.pth\")"
   ]
  }
 ],
 "metadata": {
  "kernelspec": {
   "display_name": "Python 3",
   "language": "python",
   "name": "python3"
  },
  "language_info": {
   "codemirror_mode": {
    "name": "ipython",
    "version": 3
   },
   "file_extension": ".py",
   "mimetype": "text/x-python",
   "name": "python",
   "nbconvert_exporter": "python",
   "pygments_lexer": "ipython3",
   "version": "3.10.11"
  }
 },
 "nbformat": 4,
 "nbformat_minor": 5
}
